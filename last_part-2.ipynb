{
 "cells": [
  {
   "cell_type": "code",
   "execution_count": null,
   "metadata": {},
   "outputs": [],
   "source": [
    "temp = pd.merge(echonest, features, on = 'track_id')\n",
    "df= pd.merge(temp, tracks, on = 'track_id')"
   ]
  },
  {
   "cell_type": "code",
   "execution_count": null,
   "metadata": {},
   "outputs": [],
   "source": [
    "df_new=df[['audio_features_danceability','audio_features_energy','metadata_artist_location','track_language_code','track_duration','audio_features_acousticness']]"
   ]
  },
  {
   "cell_type": "code",
   "execution_count": null,
   "metadata": {},
   "outputs": [],
   "source": [
    "df_new"
   ]
  },
  {
   "cell_type": "code",
   "execution_count": null,
   "metadata": {},
   "outputs": [],
   "source": [
    "#dealing with Nan\n",
    "df_new['track_language_code'] = df_new['track_language_code'].fillna('unknown')\n",
    "df_new.fillna(df_new.mean())"
   ]
  },
  {
   "cell_type": "code",
   "execution_count": null,
   "metadata": {},
   "outputs": [],
   "source": [
    "def mmsm(column):\n",
    "    minim=min(column)\n",
    "    st=np.std(column)\n",
    "    media=np.mean(column)\n",
    "    massimo=max(column)\n",
    "    return(minim,media,st,massimo)"
   ]
  },
  {
   "cell_type": "code",
   "execution_count": null,
   "metadata": {},
   "outputs": [],
   "source": [
    "minim,media,st,massimo=mmsm(df_new['audio_features_danceability'] )\n",
    "df_new['audio_features_danceability'] = df['audio_features_danceability'].apply(lambda x: 0 if x<(media-st) else 0.25 if media-st<x<media else 0.5 if media<x<=(media+st) else 1); "
   ]
  },
  {
   "cell_type": "code",
   "execution_count": null,
   "metadata": {},
   "outputs": [],
   "source": [
    "minim,media,st,massimo=mmsm(df_new['audio_features_energy'] )\n",
    "df_new['audio_features_energy'] = df['audio_features_energy'].apply(lambda x: 0 if x<(media-st) else 0.25 if media-st<x<media else 0.5 if media<x<=(media+st) else 1); "
   ]
  },
  {
   "cell_type": "code",
   "execution_count": null,
   "metadata": {},
   "outputs": [],
   "source": [
    "minim,media,st,massimo=mmsm(df_new['track_duration'] )\n",
    "df_new['track_duration'] = df['track_duration'].apply(lambda x: minim if x<(media-st) else 0.25 if media-st<x<media else 0.5 if media<x<=(media+st) else massimo);"
   ]
  },
  {
   "cell_type": "code",
   "execution_count": null,
   "metadata": {},
   "outputs": [],
   "source": [
    "df_new"
   ]
  },
  {
   "cell_type": "code",
   "execution_count": null,
   "metadata": {},
   "outputs": [],
   "source": []
  },
  {
   "cell_type": "code",
   "execution_count": null,
   "metadata": {},
   "outputs": [],
   "source": []
  }
 ],
 "metadata": {
  "interpreter": {
   "hash": "c0e40e7c7a66e87c69eaa7498d7778a1d8fa6b3e422091d0b3e8dafd8f730247"
  },
  "kernelspec": {
   "display_name": "Python 3.8.12 64-bit ('fds': conda)",
   "language": "python",
   "name": "python3"
  },
  "language_info": {
   "codemirror_mode": {
    "name": "ipython",
    "version": 3
   },
   "file_extension": ".py",
   "mimetype": "text/x-python",
   "name": "python",
   "nbconvert_exporter": "python",
   "pygments_lexer": "ipython3",
   "version": "3.8.12"
  },
  "orig_nbformat": 4
 },
 "nbformat": 4,
 "nbformat_minor": 2
}
